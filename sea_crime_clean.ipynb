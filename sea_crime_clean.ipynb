{
 "cells": [
  {
   "cell_type": "code",
   "execution_count": 1,
   "metadata": {},
   "outputs": [],
   "source": [
    "import pandas as pd\n",
    "import numpy as np\n",
    "import matplotlib.pyplot as plt"
   ]
  },
  {
   "cell_type": "markdown",
   "metadata": {},
   "source": [
    "#### Your task is to answer one or more of the following questions listed below: \n",
    "\n",
    "- What formula would you use for a metric to rank the safety of each neighborhood for a student, a family with a young child below the age of 15, and an elderly person? What would be the ranking result when this formula is used for each category of people? \n",
    "- To what extent and accuracy can we predict the level of change in crime for a neighborhood?\n",
    "- What unique statistics and patterns were you able to identify in Seattle’s crime? \n"
   ]
  },
  {
   "cell_type": "code",
   "execution_count": 17,
   "metadata": {},
   "outputs": [],
   "source": [
    "#crime_data1 = pd.read_csv('Crime_Data.csv', parse_dates=[])\n",
    "crime_data_spd = pd.read_csv('SPD_Crime_Data__2008-Present.csv', parse_dates=['Offense Start DateTime','Offense End DateTime'])\n",
    "call_data = pd.read_csv('Call_Data.csv',parse_dates=['Original Time Queued','Arrived Time'])"
   ]
  },
  {
   "cell_type": "code",
   "execution_count": 4,
   "metadata": {},
   "outputs": [
    {
     "data": {
      "text/plain": [
       "((523591, 11), (821377, 17), (4206691, 11))"
      ]
     },
     "execution_count": 4,
     "metadata": {},
     "output_type": "execute_result"
    }
   ],
   "source": [
    "crime_data1.shape, crime_data_spd.shape, call_data.shape"
   ]
  },
  {
   "cell_type": "markdown",
   "metadata": {},
   "source": [
    "Lets look and clean all old data (and some new too if dont have)"
   ]
  },
  {
   "cell_type": "code",
   "execution_count": 18,
   "metadata": {},
   "outputs": [
    {
     "name": "stdout",
     "output_type": "stream",
     "text": [
      "<class 'pandas.core.frame.DataFrame'>\n",
      "RangeIndex: 4206691 entries, 0 to 4206690\n",
      "Data columns (total 11 columns):\n",
      "CAD Event Number               int64\n",
      "Event Clearance Description    object\n",
      "Call Type                      object\n",
      "Priority                       int64\n",
      "Initial Call Type              object\n",
      "Final Call Type                object\n",
      "Original Time Queued           datetime64[ns]\n",
      "Arrived Time                   object\n",
      "Precinct                       object\n",
      "Sector                         object\n",
      "Beat                           object\n",
      "dtypes: datetime64[ns](1), int64(2), object(8)\n",
      "memory usage: 353.0+ MB\n"
     ]
    }
   ],
   "source": [
    "call_data.info()"
   ]
  },
  {
   "cell_type": "code",
   "execution_count": 19,
   "metadata": {},
   "outputs": [
    {
     "name": "stdout",
     "output_type": "stream",
     "text": [
      "<class 'pandas.core.frame.DataFrame'>\n",
      "RangeIndex: 821377 entries, 0 to 821376\n",
      "Data columns (total 17 columns):\n",
      "Report Number             821377 non-null object\n",
      "Offense ID                821377 non-null int64\n",
      "Offense Start DateTime    820978 non-null datetime64[ns]\n",
      "Offense End DateTime      821377 non-null object\n",
      "Report DateTime           821377 non-null object\n",
      "Group A B                 821377 non-null object\n",
      "Crime Against Category    821377 non-null object\n",
      "Offense Parent Group      821377 non-null object\n",
      "Offense                   821377 non-null object\n",
      "Offense Code              821377 non-null object\n",
      "Precinct                  821377 non-null object\n",
      "Sector                    821377 non-null object\n",
      "Beat                      821377 non-null object\n",
      "MCPP                      821377 non-null object\n",
      "100 Block Address         792736 non-null object\n",
      "Longitude                 821377 non-null float64\n",
      "Latitude                  821377 non-null float64\n",
      "dtypes: datetime64[ns](1), float64(2), int64(1), object(13)\n",
      "memory usage: 106.5+ MB\n"
     ]
    }
   ],
   "source": [
    "crime_data_spd.info()"
   ]
  },
  {
   "cell_type": "markdown",
   "metadata": {},
   "source": [
    "lets take 2015 - 2019 Data"
   ]
  },
  {
   "cell_type": "code",
   "execution_count": 21,
   "metadata": {},
   "outputs": [
    {
     "data": {
      "text/plain": [
       "374716"
      ]
     },
     "execution_count": 21,
     "metadata": {},
     "output_type": "execute_result"
    }
   ],
   "source": [
    "(crime_data_spd['Offense Start DateTime']> '2015-01-01' ).sum()"
   ]
  },
  {
   "cell_type": "code",
   "execution_count": 22,
   "metadata": {},
   "outputs": [
    {
     "data": {
      "text/plain": [
       "2085932"
      ]
     },
     "execution_count": 22,
     "metadata": {},
     "output_type": "execute_result"
    }
   ],
   "source": [
    "(call_data['Original Time Queued']>'2015-01-01').sum()"
   ]
  },
  {
   "cell_type": "markdown",
   "metadata": {},
   "source": [
    "lets work with `crime_data_spd` and `call_data`"
   ]
  },
  {
   "cell_type": "code",
   "execution_count": 23,
   "metadata": {},
   "outputs": [],
   "source": [
    "### drop nan in date, filter for 2015-2019 , reindex with date\n",
    "crime_data_spd.set_index(crime_data_spd['Offense Start DateTime'],inplace=True)\n"
   ]
  },
  {
   "cell_type": "code",
   "execution_count": 24,
   "metadata": {},
   "outputs": [],
   "source": [
    "call_data.set_index(call_data['Original Time Queued'],inplace=True)"
   ]
  },
  {
   "cell_type": "code",
   "execution_count": 27,
   "metadata": {},
   "outputs": [
    {
     "data": {
      "text/html": [
       "<div>\n",
       "<style scoped>\n",
       "    .dataframe tbody tr th:only-of-type {\n",
       "        vertical-align: middle;\n",
       "    }\n",
       "\n",
       "    .dataframe tbody tr th {\n",
       "        vertical-align: top;\n",
       "    }\n",
       "\n",
       "    .dataframe thead th {\n",
       "        text-align: right;\n",
       "    }\n",
       "</style>\n",
       "<table border=\"1\" class=\"dataframe\">\n",
       "  <thead>\n",
       "    <tr style=\"text-align: right;\">\n",
       "      <th></th>\n",
       "      <th>CAD Event Number</th>\n",
       "      <th>Event Clearance Description</th>\n",
       "      <th>Call Type</th>\n",
       "      <th>Priority</th>\n",
       "      <th>Initial Call Type</th>\n",
       "      <th>Final Call Type</th>\n",
       "      <th>Original Time Queued</th>\n",
       "      <th>Arrived Time</th>\n",
       "      <th>Precinct</th>\n",
       "      <th>Sector</th>\n",
       "      <th>Beat</th>\n",
       "    </tr>\n",
       "    <tr>\n",
       "      <th>Original Time Queued</th>\n",
       "      <th></th>\n",
       "      <th></th>\n",
       "      <th></th>\n",
       "      <th></th>\n",
       "      <th></th>\n",
       "      <th></th>\n",
       "      <th></th>\n",
       "      <th></th>\n",
       "      <th></th>\n",
       "      <th></th>\n",
       "      <th></th>\n",
       "    </tr>\n",
       "  </thead>\n",
       "  <tbody>\n",
       "    <tr>\n",
       "      <th>2009-06-02 03:35:46</th>\n",
       "      <td>2009000189335</td>\n",
       "      <td>Evidence Submitted (new incident number required)</td>\n",
       "      <td>TELEPHONE OTHER, NOT 911</td>\n",
       "      <td>1</td>\n",
       "      <td>DIST - IP/JO - DV DIST - NO ASLT</td>\n",
       "      <td>--DV - ARGUMENTS, DISTURBANCE (NO ARREST)</td>\n",
       "      <td>2009-06-02 03:35:46</td>\n",
       "      <td>Jun  2 2009 04:09:38:000AM</td>\n",
       "      <td>EAST</td>\n",
       "      <td>CHARLIE</td>\n",
       "      <td>C1</td>\n",
       "    </tr>\n",
       "    <tr>\n",
       "      <th>2009-06-02 03:43:08</th>\n",
       "      <td>2009000189336</td>\n",
       "      <td>CITATION ISSUED (CRIMINAL OR NON-CRIMINAL)</td>\n",
       "      <td>TELEPHONE OTHER, NOT 911</td>\n",
       "      <td>3</td>\n",
       "      <td>TRAFFIC - BLOCKING ROADWAY</td>\n",
       "      <td>TRAFFIC - BLOCKING ROADWAY</td>\n",
       "      <td>2009-06-02 03:43:08</td>\n",
       "      <td>Jun  2 2009 05:47:21:000AM</td>\n",
       "      <td>WEST</td>\n",
       "      <td>QUEEN</td>\n",
       "      <td>Q1</td>\n",
       "    </tr>\n",
       "    <tr>\n",
       "      <th>2009-06-02 03:47:24</th>\n",
       "      <td>2009000189340</td>\n",
       "      <td>PROBLEM SOLVING PROJECT</td>\n",
       "      <td>ONVIEW</td>\n",
       "      <td>7</td>\n",
       "      <td>PREMISE CHECK, OFFICER INITIATED ONVIEW ONLY</td>\n",
       "      <td>PREMISE CHECK, OFFICER INITIATED ONVIEW ONLY</td>\n",
       "      <td>2009-06-02 03:47:24</td>\n",
       "      <td>Jun  2 2009 03:47:24:000AM</td>\n",
       "      <td>WEST</td>\n",
       "      <td>KING</td>\n",
       "      <td>K1</td>\n",
       "    </tr>\n",
       "    <tr>\n",
       "      <th>2009-06-02 03:48:39</th>\n",
       "      <td>2009000189341</td>\n",
       "      <td>ASSISTANCE RENDERED</td>\n",
       "      <td>TELEPHONE OTHER, NOT 911</td>\n",
       "      <td>1</td>\n",
       "      <td>BURG - IP/JO - RES (INCL UNOCC STRUCTURES)</td>\n",
       "      <td>--SUSPICIOUS CIRCUM. - SUSPICIOUS PERSON</td>\n",
       "      <td>2009-06-02 03:48:39</td>\n",
       "      <td>Jun  2 2009 04:01:55:000AM</td>\n",
       "      <td>SOUTH</td>\n",
       "      <td>OCEAN</td>\n",
       "      <td>O3</td>\n",
       "    </tr>\n",
       "    <tr>\n",
       "      <th>2009-06-02 03:49:37</th>\n",
       "      <td>2009000189342</td>\n",
       "      <td>ASSISTANCE RENDERED</td>\n",
       "      <td>TELEPHONE OTHER, NOT 911</td>\n",
       "      <td>1</td>\n",
       "      <td>BURG - IP/JO - RES (INCL UNOCC STRUCTURES)</td>\n",
       "      <td>--SUSPICIOUS CIRCUM. - SUSPICIOUS PERSON</td>\n",
       "      <td>2009-06-02 03:49:37</td>\n",
       "      <td>Jun  2 2009 04:22:28:000AM</td>\n",
       "      <td>WEST</td>\n",
       "      <td>DAVID</td>\n",
       "      <td>D1</td>\n",
       "    </tr>\n",
       "  </tbody>\n",
       "</table>\n",
       "</div>"
      ],
      "text/plain": [
       "                      CAD Event Number  \\\n",
       "Original Time Queued                     \n",
       "2009-06-02 03:35:46      2009000189335   \n",
       "2009-06-02 03:43:08      2009000189336   \n",
       "2009-06-02 03:47:24      2009000189340   \n",
       "2009-06-02 03:48:39      2009000189341   \n",
       "2009-06-02 03:49:37      2009000189342   \n",
       "\n",
       "                                            Event Clearance Description  \\\n",
       "Original Time Queued                                                      \n",
       "2009-06-02 03:35:46   Evidence Submitted (new incident number required)   \n",
       "2009-06-02 03:43:08          CITATION ISSUED (CRIMINAL OR NON-CRIMINAL)   \n",
       "2009-06-02 03:47:24                             PROBLEM SOLVING PROJECT   \n",
       "2009-06-02 03:48:39                                 ASSISTANCE RENDERED   \n",
       "2009-06-02 03:49:37                                 ASSISTANCE RENDERED   \n",
       "\n",
       "                                     Call Type  Priority  \\\n",
       "Original Time Queued                                       \n",
       "2009-06-02 03:35:46   TELEPHONE OTHER, NOT 911         1   \n",
       "2009-06-02 03:43:08   TELEPHONE OTHER, NOT 911         3   \n",
       "2009-06-02 03:47:24                     ONVIEW         7   \n",
       "2009-06-02 03:48:39   TELEPHONE OTHER, NOT 911         1   \n",
       "2009-06-02 03:49:37   TELEPHONE OTHER, NOT 911         1   \n",
       "\n",
       "                                                 Initial Call Type  \\\n",
       "Original Time Queued                                                 \n",
       "2009-06-02 03:35:46               DIST - IP/JO - DV DIST - NO ASLT   \n",
       "2009-06-02 03:43:08                     TRAFFIC - BLOCKING ROADWAY   \n",
       "2009-06-02 03:47:24   PREMISE CHECK, OFFICER INITIATED ONVIEW ONLY   \n",
       "2009-06-02 03:48:39     BURG - IP/JO - RES (INCL UNOCC STRUCTURES)   \n",
       "2009-06-02 03:49:37     BURG - IP/JO - RES (INCL UNOCC STRUCTURES)   \n",
       "\n",
       "                                                   Final Call Type  \\\n",
       "Original Time Queued                                                 \n",
       "2009-06-02 03:35:46      --DV - ARGUMENTS, DISTURBANCE (NO ARREST)   \n",
       "2009-06-02 03:43:08                     TRAFFIC - BLOCKING ROADWAY   \n",
       "2009-06-02 03:47:24   PREMISE CHECK, OFFICER INITIATED ONVIEW ONLY   \n",
       "2009-06-02 03:48:39       --SUSPICIOUS CIRCUM. - SUSPICIOUS PERSON   \n",
       "2009-06-02 03:49:37       --SUSPICIOUS CIRCUM. - SUSPICIOUS PERSON   \n",
       "\n",
       "                     Original Time Queued                Arrived Time  \\\n",
       "Original Time Queued                                                    \n",
       "2009-06-02 03:35:46   2009-06-02 03:35:46  Jun  2 2009 04:09:38:000AM   \n",
       "2009-06-02 03:43:08   2009-06-02 03:43:08  Jun  2 2009 05:47:21:000AM   \n",
       "2009-06-02 03:47:24   2009-06-02 03:47:24  Jun  2 2009 03:47:24:000AM   \n",
       "2009-06-02 03:48:39   2009-06-02 03:48:39  Jun  2 2009 04:01:55:000AM   \n",
       "2009-06-02 03:49:37   2009-06-02 03:49:37  Jun  2 2009 04:22:28:000AM   \n",
       "\n",
       "                     Precinct   Sector Beat  \n",
       "Original Time Queued                         \n",
       "2009-06-02 03:35:46      EAST  CHARLIE   C1  \n",
       "2009-06-02 03:43:08      WEST    QUEEN   Q1  \n",
       "2009-06-02 03:47:24      WEST     KING   K1  \n",
       "2009-06-02 03:48:39     SOUTH    OCEAN   O3  \n",
       "2009-06-02 03:49:37      WEST    DAVID   D1  "
      ]
     },
     "execution_count": 27,
     "metadata": {},
     "output_type": "execute_result"
    }
   ],
   "source": [
    "call_data.head()"
   ]
  },
  {
   "cell_type": "code",
   "execution_count": 30,
   "metadata": {},
   "outputs": [],
   "source": [
    "crime_data_spd.sort_index(inplace=True)"
   ]
  },
  {
   "cell_type": "code",
   "execution_count": 33,
   "metadata": {},
   "outputs": [],
   "source": [
    "call_data.sort_index(inplace=True)"
   ]
  },
  {
   "cell_type": "code",
   "execution_count": 36,
   "metadata": {},
   "outputs": [],
   "source": [
    "crime_1519 = crime_data_spd['2015-01-01':'2019-12-31']\n",
    "call_1519 = call_data['2015-01-01':'2019-12-31']"
   ]
  },
  {
   "cell_type": "code",
   "execution_count": 37,
   "metadata": {},
   "outputs": [],
   "source": [
    "crime_1519.to_csv('crime1519.csv')\n",
    "call_1519.to_csv('call1519.csv')"
   ]
  },
  {
   "cell_type": "code",
   "execution_count": null,
   "metadata": {},
   "outputs": [],
   "source": []
  }
 ],
 "metadata": {
  "kernelspec": {
   "display_name": "Python 3",
   "language": "python",
   "name": "python3"
  },
  "language_info": {
   "codemirror_mode": {
    "name": "ipython",
    "version": 3
   },
   "file_extension": ".py",
   "mimetype": "text/x-python",
   "name": "python",
   "nbconvert_exporter": "python",
   "pygments_lexer": "ipython3",
   "version": "3.6.4"
  }
 },
 "nbformat": 4,
 "nbformat_minor": 4
}
